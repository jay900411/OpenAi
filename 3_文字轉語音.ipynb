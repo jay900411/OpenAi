{
  "cells": [
    {
      "cell_type": "markdown",
      "metadata": {
        "id": "view-in-github",
        "colab_type": "text"
      },
      "source": [
        "<a href=\"https://colab.research.google.com/github/jay900411/OpenAi/blob/main/3_%E6%96%87%E5%AD%97%E8%BD%89%E8%AA%9E%E9%9F%B3.ipynb\" target=\"_parent\"><img src=\"https://colab.research.google.com/assets/colab-badge.svg\" alt=\"Open In Colab\"/></a>"
      ]
    },
    {
      "cell_type": "markdown",
      "metadata": {
        "id": "DbMI1LaBhizZ"
      },
      "source": [
        "#文字轉語音\n",
        "https://twgo.io/feban\n",
        "\n",
        "本套件使用Google文字轉語音gTTS套件，將文字轉成mp3發音格式，可以指定發音國別\n",
        "程式分成以下步驟\n",
        "0. 請記得製作副本到你自己的Colab\n",
        "1. 安裝相關套件\n",
        "2. 匯入相關套件\n",
        "3. 執行翻譯"
      ]
    },
    {
      "cell_type": "markdown",
      "metadata": {
        "id": "aoquivdYhy4Z"
      },
      "source": [
        "步驟1：安裝gtts套件"
      ]
    },
    {
      "cell_type": "code",
      "execution_count": null,
      "metadata": {
        "colab": {
          "background_save": true
        },
        "id": "b1gRnF33e4VN"
      },
      "outputs": [],
      "source": [
        "!pip install gtts"
      ]
    },
    {
      "cell_type": "markdown",
      "metadata": {
        "id": "xWiqB4Eth1wH"
      },
      "source": [
        "步驟2：匯入相依性套件"
      ]
    },
    {
      "cell_type": "code",
      "execution_count": null,
      "metadata": {
        "colab": {
          "background_save": true
        },
        "id": "K22UBFlHesfS"
      },
      "outputs": [],
      "source": [
        "from IPython.display import Audio\n",
        "from IPython.display import display\n",
        "from gtts import gTTS"
      ]
    },
    {
      "cell_type": "markdown",
      "metadata": {
        "id": "s6znCzxYiA-3"
      },
      "source": [
        "步驟3：執行文字轉發音"
      ]
    },
    {
      "cell_type": "code",
      "execution_count": null,
      "metadata": {
        "id": "k502ELgyiAG2"
      },
      "outputs": [],
      "source": [
        "tts = gTTS(\"嗨，今天考試還好吧，我昨天很早睡\",lang='zh-tw',slow=True)\n",
        "tts.save('1.wav')\n",
        "sound_file = '1.wav'\n",
        "wn = Audio(sound_file, autoplay=True) ##\n",
        "display(wn)##"
      ]
    }
  ],
  "metadata": {
    "colab": {
      "provenance": [],
      "include_colab_link": true
    },
    "kernelspec": {
      "display_name": "Python 3",
      "name": "python3"
    },
    "language_info": {
      "name": "python"
    }
  },
  "nbformat": 4,
  "nbformat_minor": 0
}