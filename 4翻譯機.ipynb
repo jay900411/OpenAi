{
  "nbformat": 4,
  "nbformat_minor": 0,
  "metadata": {
    "colab": {
      "provenance": [],
      "include_colab_link": true
    },
    "kernelspec": {
      "name": "python3",
      "display_name": "Python 3"
    },
    "language_info": {
      "name": "python"
    }
  },
  "cells": [
    {
      "cell_type": "markdown",
      "metadata": {
        "id": "view-in-github",
        "colab_type": "text"
      },
      "source": [
        "<a href=\"https://colab.research.google.com/github/jay900411/OpenAi/blob/main/4%E7%BF%BB%E8%AD%AF%E6%A9%9F.ipynb\" target=\"_parent\"><img src=\"https://colab.research.google.com/assets/colab-badge.svg\" alt=\"Open In Colab\"/></a>"
      ]
    },
    {
      "cell_type": "markdown",
      "source": [
        "網址：twgo.io/ebyaz\n",
        "1. PIP安裝套件"
      ],
      "metadata": {
        "id": "qHbRcCJ2Emha"
      }
    },
    {
      "cell_type": "code",
      "execution_count": null,
      "metadata": {
        "colab": {
          "base_uri": "https://localhost:8080/"
        },
        "id": "BqvznoMLEfwS",
        "outputId": "fa7a6c0a-6c09-4ed0-b760-38d3552d6c61"
      },
      "outputs": [
        {
          "output_type": "stream",
          "name": "stdout",
          "text": [
            "Looking in indexes: https://pypi.org/simple, https://us-python.pkg.dev/colab-wheels/public/simple/\n",
            "Collecting speechrecognition\n",
            "  Downloading SpeechRecognition-3.10.0-py2.py3-none-any.whl (32.8 MB)\n",
            "\u001b[2K     \u001b[90m━━━━━━━━━━━━━━━━━━━━━━━━━━━━━━━━━━━━━━━━\u001b[0m \u001b[32m32.8/32.8 MB\u001b[0m \u001b[31m29.8 MB/s\u001b[0m eta \u001b[36m0:00:00\u001b[0m\n",
            "\u001b[?25hRequirement already satisfied: requests>=2.26.0 in /usr/local/lib/python3.10/dist-packages (from speechrecognition) (2.27.1)\n",
            "Requirement already satisfied: charset-normalizer~=2.0.0 in /usr/local/lib/python3.10/dist-packages (from requests>=2.26.0->speechrecognition) (2.0.12)\n",
            "Requirement already satisfied: idna<4,>=2.5 in /usr/local/lib/python3.10/dist-packages (from requests>=2.26.0->speechrecognition) (3.4)\n",
            "Requirement already satisfied: certifi>=2017.4.17 in /usr/local/lib/python3.10/dist-packages (from requests>=2.26.0->speechrecognition) (2022.12.7)\n",
            "Requirement already satisfied: urllib3<1.27,>=1.21.1 in /usr/local/lib/python3.10/dist-packages (from requests>=2.26.0->speechrecognition) (1.26.15)\n",
            "Installing collected packages: speechrecognition\n",
            "Successfully installed speechrecognition-3.10.0\n",
            "Looking in indexes: https://pypi.org/simple, https://us-python.pkg.dev/colab-wheels/public/simple/\n",
            "Collecting ffmpeg-python\n",
            "  Downloading ffmpeg_python-0.2.0-py3-none-any.whl (25 kB)\n",
            "Requirement already satisfied: future in /usr/local/lib/python3.10/dist-packages (from ffmpeg-python) (0.18.3)\n",
            "Installing collected packages: ffmpeg-python\n",
            "Successfully installed ffmpeg-python-0.2.0\n",
            "Looking in indexes: https://pypi.org/simple, https://us-python.pkg.dev/colab-wheels/public/simple/\n",
            "Collecting deep-translator\n",
            "  Downloading deep_translator-1.10.1-py3-none-any.whl (35 kB)\n",
            "Requirement already satisfied: requests<3.0.0,>=2.23.0 in /usr/local/lib/python3.10/dist-packages (from deep-translator) (2.27.1)\n",
            "Requirement already satisfied: beautifulsoup4<5.0.0,>=4.9.1 in /usr/local/lib/python3.10/dist-packages (from deep-translator) (4.11.2)\n",
            "Requirement already satisfied: soupsieve>1.2 in /usr/local/lib/python3.10/dist-packages (from beautifulsoup4<5.0.0,>=4.9.1->deep-translator) (2.4.1)\n",
            "Requirement already satisfied: idna<4,>=2.5 in /usr/local/lib/python3.10/dist-packages (from requests<3.0.0,>=2.23.0->deep-translator) (3.4)\n",
            "Requirement already satisfied: urllib3<1.27,>=1.21.1 in /usr/local/lib/python3.10/dist-packages (from requests<3.0.0,>=2.23.0->deep-translator) (1.26.15)\n",
            "Requirement already satisfied: charset-normalizer~=2.0.0 in /usr/local/lib/python3.10/dist-packages (from requests<3.0.0,>=2.23.0->deep-translator) (2.0.12)\n",
            "Requirement already satisfied: certifi>=2017.4.17 in /usr/local/lib/python3.10/dist-packages (from requests<3.0.0,>=2.23.0->deep-translator) (2022.12.7)\n",
            "Installing collected packages: deep-translator\n",
            "Successfully installed deep-translator-1.10.1\n",
            "Looking in indexes: https://pypi.org/simple, https://us-python.pkg.dev/colab-wheels/public/simple/\n",
            "Collecting gtts\n",
            "  Downloading gTTS-2.3.2-py3-none-any.whl (28 kB)\n",
            "Requirement already satisfied: click<8.2,>=7.1 in /usr/local/lib/python3.10/dist-packages (from gtts) (8.1.3)\n",
            "Requirement already satisfied: requests<3,>=2.27 in /usr/local/lib/python3.10/dist-packages (from gtts) (2.27.1)\n",
            "Requirement already satisfied: idna<4,>=2.5 in /usr/local/lib/python3.10/dist-packages (from requests<3,>=2.27->gtts) (3.4)\n",
            "Requirement already satisfied: certifi>=2017.4.17 in /usr/local/lib/python3.10/dist-packages (from requests<3,>=2.27->gtts) (2022.12.7)\n",
            "Requirement already satisfied: urllib3<1.27,>=1.21.1 in /usr/local/lib/python3.10/dist-packages (from requests<3,>=2.27->gtts) (1.26.15)\n",
            "Requirement already satisfied: charset-normalizer~=2.0.0 in /usr/local/lib/python3.10/dist-packages (from requests<3,>=2.27->gtts) (2.0.12)\n",
            "Installing collected packages: gtts\n",
            "Successfully installed gtts-2.3.2\n"
          ]
        }
      ],
      "source": [
        "#語音轉文字\n",
        "!pip install speechrecognition #Google 語音套件\n",
        "!pip install ffmpeg-python #ffmpeg轉檔套件\n",
        "#文字轉文字\n",
        "!pip install -U deep-translator\n",
        "#文字轉語音\n",
        "!pip install gtts"
      ]
    },
    {
      "cell_type": "markdown",
      "source": [
        "2. import匯入套件"
      ],
      "metadata": {
        "id": "zrX3KwlrE26D"
      }
    },
    {
      "cell_type": "code",
      "source": [
        "#語音轉文字\n",
        "from IPython.display import HTML, Audio\n",
        "from google.colab.output import eval_js\n",
        "from base64 import b64decode\n",
        "import numpy as np\n",
        "from scipy.io.wavfile import read ,write\n",
        "import io\n",
        "import ffmpeg\n",
        "import speech_recognition\n",
        "#文字轉文字\n",
        "from deep_translator import GoogleTranslator\n",
        "#文字轉語音\n",
        "from IPython.display import Audio\n",
        "from IPython.display import display\n",
        "from gtts import gTTS"
      ],
      "metadata": {
        "id": "bOmj-71qE6WE"
      },
      "execution_count": null,
      "outputs": []
    },
    {
      "cell_type": "markdown",
      "source": [
        "3. 副程式"
      ],
      "metadata": {
        "id": "PXkdIVfUFWih"
      }
    },
    {
      "cell_type": "code",
      "source": [
        "#語音轉文字\n",
        "AUDIO_HTML = \"\"\"\n",
        "<script>\n",
        "var my_div = document.createElement(\"DIV\");\n",
        "var my_p = document.createElement(\"P\");\n",
        "var my_btn = document.createElement(\"BUTTON\");\n",
        "var t = document.createTextNode(\"Press to start recording\");\n",
        "\n",
        "my_btn.appendChild(t);\n",
        "//my_p.appendChild(my_btn);\n",
        "my_div.appendChild(my_btn);\n",
        "document.body.appendChild(my_div);\n",
        "\n",
        "var base64data = 0;\n",
        "var reader;\n",
        "var recorder, gumStream;\n",
        "var recordButton = my_btn;\n",
        "\n",
        "var handleSuccess = function(stream) {\n",
        "  gumStream = stream;\n",
        "  var options = {\n",
        "    //bitsPerSecond: 8000, //chrome seems to ignore, always 48k\n",
        "    mimeType : 'audio/webm;codecs=opus'\n",
        "    //mimeType : 'audio/webm;codecs=pcm'\n",
        "  };\n",
        "  //recorder = new MediaRecorder(stream, options);\n",
        "  recorder = new MediaRecorder(stream);\n",
        "  recorder.ondataavailable = function(e) {\n",
        "    var url = URL.createObjectURL(e.data);\n",
        "    var preview = document.createElement('audio');\n",
        "    preview.controls = true;\n",
        "    preview.src = url;\n",
        "    document.body.appendChild(preview);\n",
        "\n",
        "    reader = new FileReader();\n",
        "    reader.readAsDataURL(e.data);\n",
        "    reader.onloadend = function() {\n",
        "      base64data = reader.result;\n",
        "      //console.log(\"Inside FileReader:\" + base64data);\n",
        "    }\n",
        "  };\n",
        "  recorder.start();\n",
        "  };\n",
        "\n",
        "recordButton.innerText = \"錄音中...按此結束\";\n",
        "\n",
        "navigator.mediaDevices.getUserMedia({audio: true}).then(handleSuccess);\n",
        "\n",
        "\n",
        "function toggleRecording() {\n",
        "  if (recorder && recorder.state == \"recording\") {\n",
        "      recorder.stop();\n",
        "      gumStream.getAudioTracks()[0].stop();\n",
        "      recordButton.innerText = \"音訊存檔中，請稍後...\"\n",
        "  }\n",
        "}\n",
        "\n",
        "// https://stackoverflow.com/a/951057\n",
        "function sleep(ms) {\n",
        "  return new Promise(resolve => setTimeout(resolve, ms));\n",
        "}\n",
        "\n",
        "var data = new Promise(resolve=>{\n",
        "//recordButton.addEventListener(\"click\", toggleRecording);\n",
        "recordButton.onclick = ()=>{\n",
        "toggleRecording()\n",
        "\n",
        "sleep(2000).then(() => {\n",
        "  // wait 2000ms for the data to be available...\n",
        "  // ideally this should use something like await...\n",
        "  //console.log(\"Inside data:\" + base64data)\n",
        "  resolve(base64data.toString())\n",
        "\n",
        "});\n",
        "\n",
        "}\n",
        "});\n",
        "\n",
        "</script>\n",
        "\"\"\"\n",
        "\n",
        "def get_audio():\n",
        "  display(HTML(AUDIO_HTML))\n",
        "  data = eval_js(\"data\")\n",
        "  binary = b64decode(data.split(',')[1])\n",
        "\n",
        "  process = (ffmpeg\n",
        "    .input('pipe:0')\n",
        "    .output('pipe:1', format='wav')\n",
        "    .run_async(pipe_stdin=True, pipe_stdout=True, pipe_stderr=True, quiet=True, overwrite_output=True)\n",
        "  )\n",
        "  output, err = process.communicate(input=binary)\n",
        "\n",
        "  riff_chunk_size = len(output) - 8\n",
        "  # Break up the chunk size into four bytes, held in b.\n",
        "  q = riff_chunk_size\n",
        "  b = []\n",
        "  for i in range(4):\n",
        "      q, r = divmod(q, 256)\n",
        "      b.append(r)\n",
        "\n",
        "  # Replace bytes 4:8 in proc.stdout with the actual size of the RIFF chunk.\n",
        "  riff = output[:4] + bytes(b) + output[8:]\n",
        "\n",
        "  sr, audio = read(io.BytesIO(riff))\n",
        "\n",
        "  return audio, sr"
      ],
      "metadata": {
        "id": "jQrRAg4EFafp"
      },
      "execution_count": null,
      "outputs": []
    },
    {
      "cell_type": "markdown",
      "source": [
        "依照流程完成翻譯機功能"
      ],
      "metadata": {
        "id": "hPjJxA5EFyaQ"
      }
    },
    {
      "cell_type": "code",
      "source": [
        "#語音轉文字\n",
        "audio, sr = get_audio()\n",
        "byte_io = io.BytesIO(bytes())\n",
        "write(byte_io, sr, audio)\n",
        "result_bytes = byte_io.read()\n",
        "\n",
        "audio_data = speech_recognition.AudioData(result_bytes, sr, 2)\n",
        "r = speech_recognition.Recognizer()\n",
        "text = r.recognize_google(audio_data,language='zh-Hant')\n",
        "print('辨識結果：' + text)\n",
        "\n",
        "#文字轉文字\n",
        "text = GoogleTranslator(source='auto', target='en').translate(text)\n",
        "print(text)\n",
        "\n",
        "#文字轉語音\n",
        "tts = gTTS(text, lang='en')\n",
        "tts.save('1.wav')\n",
        "sound_file = '1.wav'\n",
        "wn = Audio(sound_file, autoplay=True) ##\n",
        "display(wn)##"
      ],
      "metadata": {
        "colab": {
          "base_uri": "https://localhost:8080/",
          "height": 192
        },
        "id": "taltGjm3Fw8o",
        "outputId": "d4994398-993b-42fe-d57d-fff9523cffd8"
      },
      "execution_count": null,
      "outputs": [
        {
          "output_type": "display_data",
          "data": {
            "text/plain": [
              "<IPython.core.display.HTML object>"
            ],
            "text/html": [
              "\n",
              "<script>\n",
              "var my_div = document.createElement(\"DIV\");\n",
              "var my_p = document.createElement(\"P\");\n",
              "var my_btn = document.createElement(\"BUTTON\");\n",
              "var t = document.createTextNode(\"Press to start recording\");\n",
              "\n",
              "my_btn.appendChild(t);\n",
              "//my_p.appendChild(my_btn);\n",
              "my_div.appendChild(my_btn);\n",
              "document.body.appendChild(my_div);\n",
              "\n",
              "var base64data = 0;\n",
              "var reader;\n",
              "var recorder, gumStream;\n",
              "var recordButton = my_btn;\n",
              "\n",
              "var handleSuccess = function(stream) {\n",
              "  gumStream = stream;\n",
              "  var options = {\n",
              "    //bitsPerSecond: 8000, //chrome seems to ignore, always 48k\n",
              "    mimeType : 'audio/webm;codecs=opus'\n",
              "    //mimeType : 'audio/webm;codecs=pcm'\n",
              "  };            \n",
              "  //recorder = new MediaRecorder(stream, options);\n",
              "  recorder = new MediaRecorder(stream);\n",
              "  recorder.ondataavailable = function(e) {            \n",
              "    var url = URL.createObjectURL(e.data);\n",
              "    var preview = document.createElement('audio');\n",
              "    preview.controls = true;\n",
              "    preview.src = url;\n",
              "    document.body.appendChild(preview);\n",
              "\n",
              "    reader = new FileReader();\n",
              "    reader.readAsDataURL(e.data); \n",
              "    reader.onloadend = function() {\n",
              "      base64data = reader.result;\n",
              "      //console.log(\"Inside FileReader:\" + base64data);\n",
              "    }\n",
              "  };\n",
              "  recorder.start();\n",
              "  };\n",
              "\n",
              "recordButton.innerText = \"錄音中...按此結束\";\n",
              "\n",
              "navigator.mediaDevices.getUserMedia({audio: true}).then(handleSuccess);\n",
              "\n",
              "\n",
              "function toggleRecording() {\n",
              "  if (recorder && recorder.state == \"recording\") {\n",
              "      recorder.stop();\n",
              "      gumStream.getAudioTracks()[0].stop();\n",
              "      recordButton.innerText = \"音訊存檔中，請稍後...\"\n",
              "  }\n",
              "}\n",
              "\n",
              "// https://stackoverflow.com/a/951057\n",
              "function sleep(ms) {\n",
              "  return new Promise(resolve => setTimeout(resolve, ms));\n",
              "}\n",
              "\n",
              "var data = new Promise(resolve=>{\n",
              "//recordButton.addEventListener(\"click\", toggleRecording);\n",
              "recordButton.onclick = ()=>{\n",
              "toggleRecording()\n",
              "\n",
              "sleep(2000).then(() => {\n",
              "  // wait 2000ms for the data to be available...\n",
              "  // ideally this should use something like await...\n",
              "  //console.log(\"Inside data:\" + base64data)\n",
              "  resolve(base64data.toString())\n",
              "\n",
              "});\n",
              "\n",
              "}\n",
              "});\n",
              "      \n",
              "</script>\n"
            ]
          },
          "metadata": {}
        },
        {
          "output_type": "stream",
          "name": "stdout",
          "text": [
            "辨識結果：今天沒有下雨外面的操場現在是乾的我想要去打棒球\n",
            "It didn't rain today and the playground outside is dry now and I want to play baseball\n"
          ]
        },
        {
          "output_type": "display_data",
          "data": {
            "text/plain": [
              "<IPython.lib.display.Audio object>"
            ],
            "text/html": [
              "\n",
              "                <audio  controls=\"controls\" autoplay=\"autoplay\">\n",
              "                    <source src=\"data:audio/x-wav;base64,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\" type=\"audio/x-wav\" />\n",
              "                    Your browser does not support the audio element.\n",
              "                </audio>\n",
              "              "
            ]
          },
          "metadata": {}
        }
      ]
    }
  ]
}